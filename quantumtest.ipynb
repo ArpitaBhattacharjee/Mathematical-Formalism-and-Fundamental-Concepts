{
 "cells": [
  {
   "cell_type": "code",
   "execution_count": 1,
   "id": "cc93109f-fb2f-4d4a-a584-9857956fb329",
   "metadata": {},
   "outputs": [
    {
     "name": "stdout",
     "output_type": "stream",
     "text": [
      "2.1.1\n"
     ]
    }
   ],
   "source": [
    "import qiskit\n",
    "print(qiskit.__version__)"
   ]
  },
  {
   "cell_type": "code",
   "execution_count": 2,
   "id": "541f51e0-05eb-4b76-8c34-eab982ceec5d",
   "metadata": {},
   "outputs": [],
   "source": [
    "#import the objects from qiskit\n"
   ]
  },
  {
   "cell_type": "code",
   "execution_count": 3,
   "id": "3bea93cb-cca6-4966-a2f4-031b440f4136",
   "metadata": {},
   "outputs": [],
   "source": [
    "from qiskit import QuantumRegister, ClassicalRegister, QuantumCircuit"
   ]
  },
  {
   "cell_type": "code",
   "execution_count": 4,
   "id": "6775240a-79c5-428d-a536-42c9ffc99d5e",
   "metadata": {},
   "outputs": [],
   "source": [
    "from qiskit_aer import AerSimulator"
   ]
  },
  {
   "cell_type": "code",
   "execution_count": 5,
   "id": "70a30320-b828-40b1-a7d5-da4554340b63",
   "metadata": {},
   "outputs": [],
   "source": [
    "from random import randrange"
   ]
  },
  {
   "cell_type": "code",
   "execution_count": 6,
   "id": "05bab9cf-3daf-46bc-9d5a-d1d1e738b2ce",
   "metadata": {},
   "outputs": [],
   "source": [
    "qreg = QuantumRegister(2)"
   ]
  },
  {
   "cell_type": "code",
   "execution_count": 7,
   "id": "d6ba5ce0-12f1-4e49-9eac-a2f82f7569b2",
   "metadata": {},
   "outputs": [],
   "source": [
    "creg = ClassicalRegister(2)"
   ]
  },
  {
   "cell_type": "code",
   "execution_count": 8,
   "id": "88afe27d-2db1-4081-b8e3-2cdf53b92330",
   "metadata": {},
   "outputs": [],
   "source": [
    "circuit = QuantumCircuit(qreg,creg)"
   ]
  },
  {
   "cell_type": "code",
   "execution_count": 9,
   "id": "660da1bc-29f2-40b0-a36c-85a454d28772",
   "metadata": {},
   "outputs": [
    {
     "data": {
      "text/plain": [
       "<qiskit.circuit.instructionset.InstructionSet at 0x7ed14824a440>"
      ]
     },
     "execution_count": 9,
     "metadata": {},
     "output_type": "execute_result"
    }
   ],
   "source": [
    "circuit.h(qreg[0])"
   ]
  },
  {
   "cell_type": "code",
   "execution_count": 10,
   "id": "1b3c1038-0971-4fcd-a6ad-126d66a6e9cb",
   "metadata": {},
   "outputs": [
    {
     "data": {
      "text/plain": [
       "<qiskit.circuit.instructionset.InstructionSet at 0x7ed14824a710>"
      ]
     },
     "execution_count": 10,
     "metadata": {},
     "output_type": "execute_result"
    }
   ],
   "source": [
    "circuit.x(qreg[1])"
   ]
  },
  {
   "cell_type": "code",
   "execution_count": 11,
   "id": "5ad13282-d0b1-4e11-a82f-1bf6a7139360",
   "metadata": {},
   "outputs": [
    {
     "data": {
      "text/plain": [
       "<qiskit.circuit.instructionset.InstructionSet at 0x7ed14824ac80>"
      ]
     },
     "execution_count": 11,
     "metadata": {},
     "output_type": "execute_result"
    }
   ],
   "source": [
    "circuit.cx(qreg[0],qreg[1])"
   ]
  },
  {
   "cell_type": "code",
   "execution_count": 12,
   "id": "fe5be004-f45d-4e6e-9349-de1f43f43f06",
   "metadata": {},
   "outputs": [
    {
     "name": "stdout",
     "output_type": "stream",
     "text": [
      "The execution of the cell was completed, and the circuit was created \n"
     ]
    }
   ],
   "source": [
    "print(\"The execution of the cell was completed, and the circuit was created \")"
   ]
  },
  {
   "cell_type": "code",
   "execution_count": 13,
   "id": "11f518d3-d84b-4c93-bd16-fc32331457dc",
   "metadata": {},
   "outputs": [
    {
     "data": {
      "image/png": "[encoded data removed]",
      "text/plain": [
       "<Figure size 305.323x284.278 with 1 Axes>"
      ]
     },
     "execution_count": 13,
     "metadata": {},
     "output_type": "execute_result"
    }
   ],
   "source": [
    "circuit.draw(output='mpl')"
   ]
  },
  {
   "cell_type": "code",
   "execution_count": 1,
   "id": "394d5a77-13fb-49e8-a3ae-0a93ddfa71b5",
   "metadata": {},
   "outputs": [
    {
     "ename": "SyntaxError",
     "evalue": "expression cannot contain assignment, perhaps you meant \"==\"? (3075955110.py, line 1)",
     "output_type": "error",
     "traceback": [
      "\u001b[0;36m  Cell \u001b[0;32mIn[1], line 1\u001b[0;36m\u001b[0m\n\u001b[0;31m    job = AerSimulator().run(circuit.shots=1024)\u001b[0m\n\u001b[0m                             ^\u001b[0m\n\u001b[0;31mSyntaxError\u001b[0m\u001b[0;31m:\u001b[0m expression cannot contain assignment, perhaps you meant \"==\"?\n"
     ]
    }
   ],
   "source": [
    "job = AerSimulator().run(circuit.shots=1024)\n",
    "counts = job.result().get_counts(circuit)\n",
    "print(counts)"
   ]
  },
  {
   "cell_type": "code",
   "execution_count": 2,
   "id": "dff3ead8-3f89-4437-838a-a64ceb2e4cfa",
   "metadata": {},
   "outputs": [
    {
     "ename": "NameError",
     "evalue": "name 'AerSimulator' is not defined",
     "output_type": "error",
     "traceback": [
      "\u001b[0;31m---------------------------------------------------------------------------\u001b[0m",
      "\u001b[0;31mNameError\u001b[0m                                 Traceback (most recent call last)",
      "Cell \u001b[0;32mIn[2], line 1\u001b[0m\n\u001b[0;32m----> 1\u001b[0m job \u001b[38;5;241m=\u001b[39m AerSimulator()\u001b[38;5;241m.\u001b[39mrun(circuit,shots\u001b[38;5;241m=\u001b[39m\u001b[38;5;241m1024\u001b[39m)\n\u001b[1;32m      2\u001b[0m counts \u001b[38;5;241m=\u001b[39m job\u001b[38;5;241m.\u001b[39mresult()\u001b[38;5;241m.\u001b[39mget_counts(circuit)\n\u001b[1;32m      3\u001b[0m \u001b[38;5;28mprint\u001b[39m(counts)\n",
      "\u001b[0;31mNameError\u001b[0m: name 'AerSimulator' is not defined"
     ]
    }
   ],
   "source": [
    "job = AerSimulator().run(circuit,shots=1024)\n",
    "counts = job.result().get_counts(circuit)\n",
    "print(counts)"
   ]
  },
  {
   "cell_type": "code",
   "execution_count": null,
   "id": "3da66e33-512e-4de5-afad-9290484f72ec",
   "metadata": {},
   "outputs": [],
   "source": []
  }
 ],
 "metadata": {
  "kernelspec": {
   "display_name": "Python [conda env:base] *",
   "language": "python",
   "name": "conda-base-py"
  },
  "language_info": {
   "codemirror_mode": {
    "name": "ipython",
    "version": 3
   },
   "file_extension": ".py",
   "mimetype": "text/x-python",
   "name": "python",
   "nbconvert_exporter": "python",
   "pygments_lexer": "ipython3",
   "version": "3.13.5"
  }
 },
 "nbformat": 4,
 "nbformat_minor": 5
}
